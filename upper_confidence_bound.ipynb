{
 "cells": [
  {
   "cell_type": "markdown",
   "metadata": {},
   "source": [
    "# Writing Sample for PhD Application (Multi Armed Bandit)\n",
    "\n",
    "(Naveen Mysore, nmysore.work@gmail.com)"
   ]
  },
  {
   "cell_type": "markdown",
   "metadata": {},
   "source": [
    "## Abstract\n",
    "\n",
    "Multi-armed bandit (MAB) algorithms are fundamental in driving modern technology, with applications that span from managing randomized controlled trials (RCTs) to optimizing A/B testing frameworks and enhancing user experience on streaming platforms like Netflix. The pursuit of an optimal or near-optimal MAB solution is a vigorous field of study, as evidenced by ongoing research efforts to develop scalable algorithms [reference](https://www.nature.com/articles/s41598-021-83726-8). Concurrent empirical studies in the domain of evolutionary biology have indicated that certain flora and protistic life forms, such as plants and slime molds, may naturally solve MAB problems within practical time constraints, posing intriguing questions about the underlying constructs of intelligence [reference](https://royalsocietypublishing.org/doi/full/10.1098/rsif.2016.0030). The significance of MAB algorithms also permeates political science, where their influence on the dynamics of democracy and the polarization of societies is being critically analyzed [reference](https://www.tandfonline.com/doi/abs/10.1080/08838151.2020.1757365). The precise targeting of content on digital platforms such as Netflix, TikTok, e-commerce websites, and social media is a testament to the sophisticated behavioral modeling capabilities of these algorithms, which play a substantial role in engaging user attention.\n",
    "\n",
    "This article ventures into an empirical examination of MAB algorithms, with the intent to parse their functionality and evaluate their implications in practical scenarios. We commence by articulating the MAB problem and dissecting various algorithmic solutions, including the ε-greedy and upper confidence bound (UCB) algorithms, thus laying the groundwork for a comprehensive analysis of contextual bandit algorithms."
   ]
  },
  {
   "cell_type": "markdown",
   "metadata": {},
   "source": [
    "## Introduction\n",
    "\n",
    "[Multi armed bandit algorithms](https://en.wikipedia.org/wiki/Multi-armed_bandit) originate from the intersection of probability theory and machine learning, presenting a classic example of the exploration-exploitation dilemma faced by autonomous agents. An autonomous agent is an entity capable of making decisions independently, using information from its environment to guide its actions. Humans, for instance, are autonomous agents, processing environmental inputs to make decisions that align with internal states or goals.\n",
    "\n",
    "The exploration-exploitation trade-off is encapsulated in the decision-making process of these agents, which must choose between exploring new possibilities or exploiting known avenues at each decision point. The consequences of these decisions are immediate: the environment provides feedback in the form of rewards or penalties, contingent on the actions taken.\n",
    "\n",
    "The multi-armed bandit problem is often illustrated through the gambling metaphor of a casino slot machine, which is a device with one lever that, when pulled, yields a payout. Now envisage a slot machine with $k$ arms, each pull of an arm representing a different action with its own fixed reward probability distribution. The gambler's challenge, synonymous with an agent's decision-making in this scenario, is to maximize the aggregate reward over a series of pulls or actions.\n",
    "\n",
    "In the digital world, the content displayed on personal devices can be seen as the 'slot machine' with various 'levers' in the form of content options. Platforms like Netflix and TikTok act as the 'agents' in this analogy, using algorithms to tailor content based on user interactions. Here, the user's engagement with the content provides the feedback that informs the algorithm's future recommendations, making the user the 'environment' in which the 'agent' operates."
   ]
  },
  {
   "cell_type": "markdown",
   "metadata": {},
   "source": [
    "## Epsilon Greedy and UCB\n",
    "\n",
    "Epsilon-Greedy is a straightforward strategy employed to navigate the exploration-exploitation trade-off by making random choices between the two options. In the epsilon-greedy approach, 'epsilon' denotes the likelihood of opting for exploration. This method predominantly focuses on exploitation, allowing for a small probability of exploring new options. In contrast, the Upper Confidence Bound (UCB) algorithm adopts a more sophisticated approach to exploration. Unlike the epsilon-greedy method, which explores randomly with a constant probability, the UCB algorithm dynamically adjusts the exploration-exploitation balance based on an accruing understanding of the environment, thereby enhancing decision quality over time."
   ]
  },
  {
   "cell_type": "markdown",
   "metadata": {},
   "source": [
    "## Experiment setup\n",
    "\n",
    "The objective of this experiment is to conduct a comparative analysis of the multi-armed bandit problem using both the epsilon $\\epsilon$-greedy algorithm and the Upper Confidence Bound (UCB) algorithm. For the purpose of this experiment, a $k=10$ armed bandit scenario will be established, and we will investigate four $\\epsilon$-greedy strategies with $\\epsilon$ values of 0.0, 0.01, 0.1, and 0.5, subsequently followed by the UCB method. The experiment is designed to include a substantial number of iterations and episodes.\n",
    "\n",
    "Given the extensive data that will be generated, it is impractical to store all individual rewards due to the extensive space and computational resources required. Therefore, we will employ running averages, which allows us to maintain only two variables in memory: the previous mean and the current reward. The mathematical formulation for this method is as follows:\n",
    "\n",
    "Let $m_n$ denote the mean or average value of rewards at the $n^{th}$ timestep, and let $n$ represent the total number of iterations up to that point. Let $R_i$ be the reward received at the $i^{th}$ timestep.\n",
    "Then\n",
    "\n",
    "\\begin{equation*}\n",
    "m_n = \\frac{\\sum_{i=1}^n R_i}{n}\n",
    "\\end{equation*}\n",
    "\n",
    "\\begin{equation*}\n",
    "m_n = \\frac{(\\sum_{i=1}^{n-1}R_i)+R_n}{n}\n",
    "\\end{equation*}\n",
    "\n",
    "\\begin{equation*}\n",
    "m_n = \\frac{Rn}{n}+\\frac{\\sum_{i=1}^{n-1}R_{n-1}}{n}\n",
    "\\end{equation*}\n",
    "\n",
    "The sum of $n-1$ rewards $\\sum_{i=1}^{n-1}R_{n-1}$ can also be written as $m_{n-1}$*${n-1}$. Using this the previous equation can be written as\n",
    "\n",
    "\\begin{equation*}\n",
    "m_n = \\frac{Rn}{n} + \\frac{(n-1)m_{n-1}}{n}\n",
    "\\end{equation*}\n",
    "\n",
    "Rearranging terms we get\n",
    "\\begin{equation*}\n",
    "m_n = m_{n-1}+\\frac{R_{n}-m_{n-1}}{n}\n",
    "\\end{equation*}\n",
    "\n",
    "Which means, just by keeping track of current reward $R_{i}$ and running mean $m_{n-1}$ we can update the new mean $m_{n}$ by above equation.\n",
    "\n",
    "\\begin{equation*}\n",
    "m_n  \\Leftarrow m_{n-1}+\\frac{R_{n}-m_{n-1}}{n}\n",
    "\\end{equation*}"
   ]
  },
  {
   "cell_type": "markdown",
   "metadata": {},
   "source": [
    "Programmatically we can express this as function"
   ]
  },
  {
   "cell_type": "code",
   "execution_count": 1,
   "metadata": {},
   "outputs": [],
   "source": [
    "running_average = lambda m_n_1, r_i, n: m_n_1 + ((r_i - m_n_1) / n)"
   ]
  },
  {
   "cell_type": "markdown",
   "metadata": {},
   "source": [
    "Let us import all the packages we will be needing for this experiment."
   ]
  },
  {
   "cell_type": "code",
   "execution_count": 2,
   "metadata": {},
   "outputs": [],
   "source": [
    "import numpy as np\n",
    "import pandas as pd\n",
    "import seaborn as sns\n",
    "import matplotlib.pyplot as plt"
   ]
  },
  {
   "cell_type": "markdown",
   "metadata": {},
   "source": [
    "## Environment reward setup\n",
    "\n",
    "Consider a system comprising $k$ arms, where each arm, when activated, yields a numerical reward. These rewards are drawn from a probability distribution characterized by a mean $\\mu$ and a standard deviation $\\sigma$ (denoted as $sd$ in common statistical parlance). The distribution for each arm can be represented and generated programmatically. The following pseudocode outlines a possible implementation for modeling this distribution:"
   ]
  },
  {
   "cell_type": "code",
   "execution_count": 3,
   "metadata": {},
   "outputs": [],
   "source": [
    "class RewardDistribution:\n",
    "    def __init__(self, k=10):\n",
    "        self.k = k\n",
    "        self.mu = 0\n",
    "        self.sigma = 1\n",
    "        self.q_star_mu = np.random.normal(self.mu, self.sigma, k)\n",
    "        self.q_star_sd = np.ones(k)\n",
    "\n",
    "    def get_reward(self, action):\n",
    "        Rt = np.random.normal(self.q_star_mu[action], self.q_star_sd[action], 1)\n",
    "        return Rt\n",
    "\n",
    "    def plot(self):\n",
    "        # create a data frame to plot the distribution\n",
    "        df = {}\n",
    "        sample_size = 1000\n",
    "        for action in range(self.k):\n",
    "            mu = self.q_star_mu[action]\n",
    "            sd = self.q_star_sd[action]\n",
    "            df[f'action_{action}'] = np.random.normal(mu, sd, sample_size)\n",
    "        df = pd.DataFrame(data=df)\n",
    "        sns.boxplot(data=df)\n"
   ]
  },
  {
   "cell_type": "markdown",
   "metadata": {},
   "source": [
    "Let's model a system with 10 arms and visualize its reward distribution. For each action (pulling a slot arm) the system samples rewards from a distribution of (0,1) and awards it to you. "
   ]
  },
  {
   "cell_type": "code",
   "execution_count": 4,
   "metadata": {},
   "outputs": [
    {
     "data": {
      "text/plain": "<Figure size 640x480 with 1 Axes>",
      "image/png": "[encoded data removed]"
     },
     "metadata": {},
     "output_type": "display_data"
    }
   ],
   "source": [
    "rd = RewardDistribution(k=10)\n",
    "rd.plot()"
   ]
  },
  {
   "cell_type": "markdown",
   "metadata": {},
   "source": [
    "In practical scenarios, the underlying probability distributions governing rewards are typically unknown to the decision-maker. Possessing such knowledge would, in theory, enable a strategist to exploit the system to maximal advantage, potentially yielding substantial financial gain. However, absent this omniscience, we must rely on strategic algorithms to approximate these hidden distributions. The $\\epsilon$-greedy algorithm presents a methodological framework for such an approximation, iteratively balancing the exploration of new actions with the exploitation of known rewards to model the distribution as closely as possible without prior knowledge of its parameters."
   ]
  },
  {
   "cell_type": "markdown",
   "metadata": {},
   "source": [
    "## Epsilon bandit\n",
    "\n",
    "In this model we will setup $k=10$ arm bandit for the system and compare four epsilon approaches (0.0, 0.01, 0.1, 0.5)."
   ]
  },
  {
   "cell_type": "code",
   "execution_count": 5,
   "metadata": {},
   "outputs": [],
   "source": [
    "class EpsBandit:\n",
    "    def __init__(self):\n",
    "        self.eps = None\n",
    "        self.k = None\n",
    "        self.qa = None\n",
    "        self.actions = None\n",
    "        self.rd = None\n",
    "\n",
    "    def set_epsilon(self, eps):\n",
    "        pass\n",
    "\n",
    "    def set_reward_distribution(self, rd):\n",
    "        pass\n",
    "\n",
    "    def set_k_arms(self, k):\n",
    "        pass\n",
    "\n",
    "    def get_action_dist(self):\n",
    "        pass\n",
    "\n",
    "    def get_q_values(self):\n",
    "        pass\n",
    "\n",
    "    def _sample_an_action(self):\n",
    "\n",
    "        def greedy_action():\n",
    "            # pick action corresponding to high qa\n",
    "            return np.argmax(self.qa)\n",
    "\n",
    "        def random_action():\n",
    "            # pick random action from k selections\n",
    "            return np.random.choice(self.k)\n",
    "\n",
    "        if self.eps == 0:\n",
    "            # always greedy choice\n",
    "            return greedy_action()\n",
    "        else:\n",
    "            p = np.random.rand()\n",
    "            # high epsilon means more weight to random actions\n",
    "            if p < self.eps:\n",
    "                return random_action()\n",
    "            else:\n",
    "                return greedy_action()\n",
    "\n",
    "    def _execute_an_action(self, action):\n",
    "        sampled_rewards = self.rd.get_reward(action=action)\n",
    "        self.actions[action] += 1\n",
    "        return sampled_rewards\n",
    "    \n",
    "    \n",
    "class Experiment(EpsBandit):\n",
    "    def __init__(self, name):\n",
    "        super().__init__()\n",
    "        self.name = name\n",
    "        self.total_avg_reward = 0.0\n",
    "        self.average_rewards = {}\n",
    "\n",
    "    def set_epsilon(self, eps):\n",
    "        self.eps = eps\n",
    "\n",
    "    def set_k_arms(self, k):\n",
    "        self.k = k\n",
    "        self.qa = np.zeros(k)\n",
    "        self.actions = np.zeros(k)\n",
    "\n",
    "    def set_reward_distribution(self, rd):\n",
    "        self.rd = rd\n",
    "\n",
    "    def get_name(self):\n",
    "        return self.name\n",
    "\n",
    "    def get_average_rewards(self):\n",
    "        return pd.DataFrame(self.average_rewards)\n",
    "\n",
    "    def get_action_dist(self):\n",
    "        dataframe = {}\n",
    "        for _index, value in enumerate(self.actions):\n",
    "            dataframe[f'a{_index}'] = [value]\n",
    "        return pd.DataFrame(dataframe)\n",
    "\n",
    "    def get_q_values_dist(self):\n",
    "        dataframe = {}\n",
    "        for _index, value in enumerate(self.qa):\n",
    "            dataframe[f'q_a{_index}'] = [value]\n",
    "        return pd.DataFrame(dataframe)\n",
    "\n",
    "    def run(self, steps=10):\n",
    "        for t in range(1, steps):\n",
    "            action = self._sample_an_action()\n",
    "            r_t = self._execute_an_action(action)\n",
    "            self.total_avg_reward = running_average(m_n_1=self.total_avg_reward, r_i=r_t, n=t)\n",
    "            self.qa[action] = running_average(m_n_1=self.qa[action], r_i=r_t, n=self.actions[action])\n",
    "            self.average_rewards[f't{t}'] = [round(float(self.total_avg_reward), 2)]"
   ]
  },
  {
   "cell_type": "markdown",
   "metadata": {},
   "source": [
    "An $\\epsilon$ value of 0.0 implies that we consistently select the greedy action, the one that has yielded the maximum reward in previous trials. Conversely, an $\\epsilon$ value of 0.5 indicates a balanced approach: 50% of the time, we opt for the action that has provided the maximum rewards historically, and the remaining 50% of the time, we engage in exploration by selecting actions at random."
   ]
  },
  {
   "cell_type": "code",
   "execution_count": 6,
   "metadata": {},
   "outputs": [],
   "source": [
    "class Experiments:\n",
    "    def __init__(self):\n",
    "        self.time_steps = 10\n",
    "        self.experiments = []\n",
    "\n",
    "    def set_time_steps(self, steps=10):\n",
    "        self.time_steps = steps\n",
    "\n",
    "    def add_an_experiment(self, experiment):\n",
    "        self.experiments.append(experiment)\n",
    "\n",
    "    def run_all_experiments(self):\n",
    "        for _experiment in self.experiments:\n",
    "            _experiment.run(steps=self.time_steps)\n",
    "\n",
    "    def get_results(self):\n",
    "        results = dict()\n",
    "        results['time_step'] = []\n",
    "        results['epsilon'] = []\n",
    "        results['average_reward'] = []\n",
    "        for t in range(0, self.time_steps):\n",
    "            for _exp in self.experiments:\n",
    "                _res = _exp.get_average_rewards()\n",
    "                results['time_step'].append(f't{t}')\n",
    "                results['epsilon'].append(_exp.get_name())\n",
    "                if t == 0:\n",
    "                    results['average_reward'].append(0.0)\n",
    "                else:\n",
    "                    results['average_reward'].append(_res.loc[[0], [f't{t}']].values[0][0])\n",
    "        return pd.DataFrame(results)\n",
    "\n",
    "\n",
    "number_of_arms = 10\n",
    "# One reward distribution comman across all \n",
    "reward_distribution = RewardDistribution(k=number_of_arms)\n",
    "\n",
    "experiments = Experiments()\n",
    "experiments.set_time_steps(steps=100)\n",
    "\n",
    "experiment_1 = Experiment(name='eps_0')\n",
    "experiment_1.set_k_arms(k=number_of_arms)\n",
    "experiment_1.set_reward_distribution(rd=reward_distribution)\n",
    "experiment_1.set_epsilon(eps=0.0)\n",
    "experiments.add_an_experiment(experiment=experiment_1)\n",
    "\n",
    "experiment_2 = Experiment(name='eps_0_0_1')\n",
    "experiment_2.set_k_arms(k=number_of_arms)\n",
    "experiment_2.set_reward_distribution(rd=reward_distribution)\n",
    "experiment_2.set_epsilon(eps=0.01)\n",
    "experiments.add_an_experiment(experiment=experiment_2)\n",
    "\n",
    "experiment_3 = Experiment(name='eps_0_1')\n",
    "experiment_3.set_k_arms(k=number_of_arms)\n",
    "experiment_3.set_reward_distribution(rd=reward_distribution)\n",
    "experiment_3.set_epsilon(eps=0.1)\n",
    "experiments.add_an_experiment(experiment=experiment_3)"
   ]
  },
  {
   "cell_type": "markdown",
   "metadata": {},
   "source": [
    "Ok, now let's run this experiment."
   ]
  },
  {
   "cell_type": "code",
   "execution_count": 7,
   "metadata": {},
   "outputs": [
    {
     "name": "stdout",
     "output_type": "stream",
     "text": [
      "  time_step    epsilon  average_reward\n",
      "0        t0      eps_0            0.00\n",
      "1        t0  eps_0_0_1            0.00\n",
      "2        t0    eps_0_1            0.00\n",
      "3        t1      eps_0            0.47\n",
      "4        t1  eps_0_0_1           -0.78\n"
     ]
    },
    {
     "data": {
      "text/plain": "<Figure size 640x480 with 1 Axes>",
      "image/png": "[encoded data removed]"
     },
     "metadata": {},
     "output_type": "display_data"
    }
   ],
   "source": [
    "experiments.run_all_experiments()\n",
    "results = experiments.get_results()\n",
    "print(results.head())\n",
    "sns.lineplot(data=results, x='time_step', y='average_reward', hue='epsilon')\n",
    "plt.xscale('log')"
   ]
  },
  {
   "cell_type": "markdown",
   "metadata": {},
   "source": [
    "The experiment was conducted over a time span of 1,000 timesteps, during which we collected the running average rewards for various values of $\\epsilon$. As we repeat these experiments our <b>Q</b> values will converge to <b>Q*</b> values."
   ]
  },
  {
   "cell_type": "markdown",
   "metadata": {},
   "source": [
    "## Running episodes\n",
    "\n",
    "It is important to note that the reward distribution was sampled once using the RewardDistribution class and this sample was utilized across various experiments with differing values of $\\epsilon$. To ensure the robustness of our findings and to allow our estimated values to converge reliably to the optimal values, it is imperative to replicate this experiment multiple times, each with a unique instantiation of the reward distribution."
   ]
  },
  {
   "cell_type": "code",
   "execution_count": 8,
   "metadata": {},
   "outputs": [
    {
     "ename": "KeyboardInterrupt",
     "evalue": "",
     "output_type": "error",
     "traceback": [
      "\u001B[0;31m---------------------------------------------------------------------------\u001B[0m",
      "\u001B[0;31mKeyboardInterrupt\u001B[0m                         Traceback (most recent call last)",
      "Cell \u001B[0;32mIn[8], line 5\u001B[0m\n\u001B[1;32m      3\u001B[0m \u001B[38;5;28;01mfor\u001B[39;00m episode \u001B[38;5;129;01min\u001B[39;00m \u001B[38;5;28mrange\u001B[39m(\u001B[38;5;241m0\u001B[39m, \u001B[38;5;241m100\u001B[39m):\n\u001B[1;32m      4\u001B[0m     experiments\u001B[38;5;241m.\u001B[39mrun_all_experiments()\n\u001B[0;32m----> 5\u001B[0m     results \u001B[38;5;241m=\u001B[39m \u001B[43mexperiments\u001B[49m\u001B[38;5;241;43m.\u001B[39;49m\u001B[43mget_results\u001B[49m\u001B[43m(\u001B[49m\u001B[43m)\u001B[49m\n\u001B[1;32m      6\u001B[0m     \u001B[38;5;28;01mif\u001B[39;00m \u001B[38;5;129;01mnot\u001B[39;00m flag:\n\u001B[1;32m      7\u001B[0m         net_result \u001B[38;5;241m=\u001B[39m results\n",
      "Cell \u001B[0;32mIn[6], line 23\u001B[0m, in \u001B[0;36mExperiments.get_results\u001B[0;34m(self)\u001B[0m\n\u001B[1;32m     21\u001B[0m \u001B[38;5;28;01mfor\u001B[39;00m t \u001B[38;5;129;01min\u001B[39;00m \u001B[38;5;28mrange\u001B[39m(\u001B[38;5;241m0\u001B[39m, \u001B[38;5;28mself\u001B[39m\u001B[38;5;241m.\u001B[39mtime_steps):\n\u001B[1;32m     22\u001B[0m     \u001B[38;5;28;01mfor\u001B[39;00m _exp \u001B[38;5;129;01min\u001B[39;00m \u001B[38;5;28mself\u001B[39m\u001B[38;5;241m.\u001B[39mexperiments:\n\u001B[0;32m---> 23\u001B[0m         _res \u001B[38;5;241m=\u001B[39m \u001B[43m_exp\u001B[49m\u001B[38;5;241;43m.\u001B[39;49m\u001B[43mget_average_rewards\u001B[49m\u001B[43m(\u001B[49m\u001B[43m)\u001B[49m\n\u001B[1;32m     24\u001B[0m         results[\u001B[38;5;124m'\u001B[39m\u001B[38;5;124mtime_step\u001B[39m\u001B[38;5;124m'\u001B[39m]\u001B[38;5;241m.\u001B[39mappend(\u001B[38;5;124mf\u001B[39m\u001B[38;5;124m'\u001B[39m\u001B[38;5;124mt\u001B[39m\u001B[38;5;132;01m{\u001B[39;00mt\u001B[38;5;132;01m}\u001B[39;00m\u001B[38;5;124m'\u001B[39m)\n\u001B[1;32m     25\u001B[0m         results[\u001B[38;5;124m'\u001B[39m\u001B[38;5;124mepsilon\u001B[39m\u001B[38;5;124m'\u001B[39m]\u001B[38;5;241m.\u001B[39mappend(_exp\u001B[38;5;241m.\u001B[39mget_name())\n",
      "Cell \u001B[0;32mIn[5], line 73\u001B[0m, in \u001B[0;36mExperiment.get_average_rewards\u001B[0;34m(self)\u001B[0m\n\u001B[1;32m     72\u001B[0m \u001B[38;5;28;01mdef\u001B[39;00m \u001B[38;5;21mget_average_rewards\u001B[39m(\u001B[38;5;28mself\u001B[39m):\n\u001B[0;32m---> 73\u001B[0m     \u001B[38;5;28;01mreturn\u001B[39;00m \u001B[43mpd\u001B[49m\u001B[38;5;241;43m.\u001B[39;49m\u001B[43mDataFrame\u001B[49m\u001B[43m(\u001B[49m\u001B[38;5;28;43mself\u001B[39;49m\u001B[38;5;241;43m.\u001B[39;49m\u001B[43maverage_rewards\u001B[49m\u001B[43m)\u001B[49m\n",
      "File \u001B[0;32m/usr/local/lib/python3.9/site-packages/pandas/core/frame.py:614\u001B[0m, in \u001B[0;36mDataFrame.__init__\u001B[0;34m(self, data, index, columns, dtype, copy)\u001B[0m\n\u001B[1;32m    608\u001B[0m     mgr \u001B[38;5;241m=\u001B[39m \u001B[38;5;28mself\u001B[39m\u001B[38;5;241m.\u001B[39m_init_mgr(\n\u001B[1;32m    609\u001B[0m         data, axes\u001B[38;5;241m=\u001B[39m{\u001B[38;5;124m\"\u001B[39m\u001B[38;5;124mindex\u001B[39m\u001B[38;5;124m\"\u001B[39m: index, \u001B[38;5;124m\"\u001B[39m\u001B[38;5;124mcolumns\u001B[39m\u001B[38;5;124m\"\u001B[39m: columns}, dtype\u001B[38;5;241m=\u001B[39mdtype, copy\u001B[38;5;241m=\u001B[39mcopy\n\u001B[1;32m    610\u001B[0m     )\n\u001B[1;32m    612\u001B[0m \u001B[38;5;28;01melif\u001B[39;00m \u001B[38;5;28misinstance\u001B[39m(data, \u001B[38;5;28mdict\u001B[39m):\n\u001B[1;32m    613\u001B[0m     \u001B[38;5;66;03m# GH#38939 de facto copy defaults to False only in non-dict cases\u001B[39;00m\n\u001B[0;32m--> 614\u001B[0m     mgr \u001B[38;5;241m=\u001B[39m \u001B[43mdict_to_mgr\u001B[49m\u001B[43m(\u001B[49m\u001B[43mdata\u001B[49m\u001B[43m,\u001B[49m\u001B[43m \u001B[49m\u001B[43mindex\u001B[49m\u001B[43m,\u001B[49m\u001B[43m \u001B[49m\u001B[43mcolumns\u001B[49m\u001B[43m,\u001B[49m\u001B[43m \u001B[49m\u001B[43mdtype\u001B[49m\u001B[38;5;241;43m=\u001B[39;49m\u001B[43mdtype\u001B[49m\u001B[43m,\u001B[49m\u001B[43m \u001B[49m\u001B[43mcopy\u001B[49m\u001B[38;5;241;43m=\u001B[39;49m\u001B[43mcopy\u001B[49m\u001B[43m,\u001B[49m\u001B[43m \u001B[49m\u001B[43mtyp\u001B[49m\u001B[38;5;241;43m=\u001B[39;49m\u001B[43mmanager\u001B[49m\u001B[43m)\u001B[49m\n\u001B[1;32m    615\u001B[0m \u001B[38;5;28;01melif\u001B[39;00m \u001B[38;5;28misinstance\u001B[39m(data, ma\u001B[38;5;241m.\u001B[39mMaskedArray):\n\u001B[1;32m    616\u001B[0m     \u001B[38;5;28;01mimport\u001B[39;00m \u001B[38;5;21;01mnumpy\u001B[39;00m\u001B[38;5;21;01m.\u001B[39;00m\u001B[38;5;21;01mma\u001B[39;00m\u001B[38;5;21;01m.\u001B[39;00m\u001B[38;5;21;01mmrecords\u001B[39;00m \u001B[38;5;28;01mas\u001B[39;00m \u001B[38;5;21;01mmrecords\u001B[39;00m\n",
      "File \u001B[0;32m/usr/local/lib/python3.9/site-packages/pandas/core/internals/construction.py:445\u001B[0m, in \u001B[0;36mdict_to_mgr\u001B[0;34m(data, index, columns, dtype, typ, copy)\u001B[0m\n\u001B[1;32m    443\u001B[0m keys \u001B[38;5;241m=\u001B[39m \u001B[38;5;28mlist\u001B[39m(data\u001B[38;5;241m.\u001B[39mkeys())\n\u001B[1;32m    444\u001B[0m columns \u001B[38;5;241m=\u001B[39m data_names \u001B[38;5;241m=\u001B[39m Index(keys)\n\u001B[0;32m--> 445\u001B[0m arrays \u001B[38;5;241m=\u001B[39m [com\u001B[38;5;241m.\u001B[39mmaybe_iterable_to_list(data[k]) \u001B[38;5;28;01mfor\u001B[39;00m k \u001B[38;5;129;01min\u001B[39;00m keys]\n\u001B[1;32m    446\u001B[0m \u001B[38;5;66;03m# GH#24096 need copy to be deep for datetime64tz case\u001B[39;00m\n\u001B[1;32m    447\u001B[0m \u001B[38;5;66;03m# TODO: See if we can avoid these copies\u001B[39;00m\n\u001B[1;32m    448\u001B[0m arrays \u001B[38;5;241m=\u001B[39m [arr \u001B[38;5;28;01mif\u001B[39;00m \u001B[38;5;129;01mnot\u001B[39;00m \u001B[38;5;28misinstance\u001B[39m(arr, Index) \u001B[38;5;28;01melse\u001B[39;00m arr\u001B[38;5;241m.\u001B[39m_data \u001B[38;5;28;01mfor\u001B[39;00m arr \u001B[38;5;129;01min\u001B[39;00m arrays]\n",
      "File \u001B[0;32m/usr/local/lib/python3.9/site-packages/pandas/core/internals/construction.py:445\u001B[0m, in \u001B[0;36m<listcomp>\u001B[0;34m(.0)\u001B[0m\n\u001B[1;32m    443\u001B[0m keys \u001B[38;5;241m=\u001B[39m \u001B[38;5;28mlist\u001B[39m(data\u001B[38;5;241m.\u001B[39mkeys())\n\u001B[1;32m    444\u001B[0m columns \u001B[38;5;241m=\u001B[39m data_names \u001B[38;5;241m=\u001B[39m Index(keys)\n\u001B[0;32m--> 445\u001B[0m arrays \u001B[38;5;241m=\u001B[39m [\u001B[43mcom\u001B[49m\u001B[38;5;241;43m.\u001B[39;49m\u001B[43mmaybe_iterable_to_list\u001B[49m\u001B[43m(\u001B[49m\u001B[43mdata\u001B[49m\u001B[43m[\u001B[49m\u001B[43mk\u001B[49m\u001B[43m]\u001B[49m\u001B[43m)\u001B[49m \u001B[38;5;28;01mfor\u001B[39;00m k \u001B[38;5;129;01min\u001B[39;00m keys]\n\u001B[1;32m    446\u001B[0m \u001B[38;5;66;03m# GH#24096 need copy to be deep for datetime64tz case\u001B[39;00m\n\u001B[1;32m    447\u001B[0m \u001B[38;5;66;03m# TODO: See if we can avoid these copies\u001B[39;00m\n\u001B[1;32m    448\u001B[0m arrays \u001B[38;5;241m=\u001B[39m [arr \u001B[38;5;28;01mif\u001B[39;00m \u001B[38;5;129;01mnot\u001B[39;00m \u001B[38;5;28misinstance\u001B[39m(arr, Index) \u001B[38;5;28;01melse\u001B[39;00m arr\u001B[38;5;241m.\u001B[39m_data \u001B[38;5;28;01mfor\u001B[39;00m arr \u001B[38;5;129;01min\u001B[39;00m arrays]\n",
      "File \u001B[0;32m/usr/local/lib/python3.9/site-packages/pandas/core/common.py:293\u001B[0m, in \u001B[0;36mmaybe_iterable_to_list\u001B[0;34m(obj)\u001B[0m\n\u001B[1;32m    291\u001B[0m \u001B[38;5;28;01mif\u001B[39;00m \u001B[38;5;28misinstance\u001B[39m(obj, abc\u001B[38;5;241m.\u001B[39mIterable) \u001B[38;5;129;01mand\u001B[39;00m \u001B[38;5;129;01mnot\u001B[39;00m \u001B[38;5;28misinstance\u001B[39m(obj, abc\u001B[38;5;241m.\u001B[39mSized):\n\u001B[1;32m    292\u001B[0m     \u001B[38;5;28;01mreturn\u001B[39;00m \u001B[38;5;28mlist\u001B[39m(obj)\n\u001B[0;32m--> 293\u001B[0m obj \u001B[38;5;241m=\u001B[39m \u001B[43mcast\u001B[49m(Collection, obj)\n\u001B[1;32m    294\u001B[0m \u001B[38;5;28;01mreturn\u001B[39;00m obj\n",
      "\u001B[0;31mKeyboardInterrupt\u001B[0m: "
     ]
    }
   ],
   "source": [
    "net_result = None\n",
    "flag = False\n",
    "for episode in range(0, 100):\n",
    "    experiments.run_all_experiments()\n",
    "    results = experiments.get_results()\n",
    "    if not flag:\n",
    "        net_result = results\n",
    "        flag = True\n",
    "    else:\n",
    "        net_result['average_reward'] = running_average(m_n_1=net_result['average_reward'],\n",
    "                                                       r_i=results['average_reward'],\n",
    "                                                       n=episode)\n",
    "print(net_result.head())\n",
    "sns.lineplot(data=net_result, x='time_step', y='average_reward', hue='epsilon')"
   ]
  },
  {
   "cell_type": "markdown",
   "metadata": {},
   "source": [
    "Now that we have the data we need, we shall format it and prepare for plotting."
   ]
  },
  {
   "cell_type": "markdown",
   "metadata": {},
   "source": [
    "## Optimistic Initial Values in non stationary environments\n",
    "\n",
    "In academic literatures we usually model these average estimates as <b>$Q$</b> values. Using a similar definition as above let <b>$R_i$</b> now denote reward received after the <b>$i^ith$</b> iteration for a given action. Let <b>$Q_n$</b> denote the estimate of its action value after it has been selected <b>$n-1$</b> times then\n",
    "\n",
    "\\begin{equation*}\n",
    "Q_n = \\frac{R_1+R_2+R_3+....+R_n-1}{n-1}\n",
    "\\end{equation*}\n",
    "\n",
    "From the derivation made using running averages we can say\n",
    "\n",
    "\\begin{equation*}\n",
    "Q_{n+1} = Q_n + \\frac{1}{n}*(R_n-Q_n)\n",
    "\\end{equation*}\n",
    "\n",
    "This can be informally viewed as this\n",
    "\n",
    "<b>New Estimate</b> $\\leftarrow$ <b>Old Estimate</b> + <b>Step Size</b> (<b>Target</b> - <b>Old Estimate</b>)\n",
    "\n",
    "The methods discussed so far are dependent to some extent on the initial Q values, ie, $Q_1(a)$. In other words these methods are biases with initial values of $Q$. The bias will disappear when all actions are samples infinite time by the law of large numbers. On the other hand in the methods discussed so far we assumed that the environment is fixed with a stationary reward distribution. However, we know that in real world reward distribution keep changing. So to model this problem we need the agent to be encouraged to explore more based on the environment dynamics. As number of iterations run towards infinity $\\frac{1}{n}$ tends towards 0. Which means for large iterations we can model $\\frac{1}{n}$ as a fraction close to 0. We shall represent this by alpha $\\alpha$ where $\\alpha \\in (0, 1]$\n",
    "\n",
    "\\begin{equation*}\n",
    "Q_{n+1} = Q_n + \\alpha*(R_n-Q_n)\n",
    "\\end{equation*}\n",
    "\n",
    "Since, the step-size parameter $\\alpha$ is constant we can derive the following.\n",
    "\n",
    "\\begin{equation*}\n",
    "Q_{n+1} = \\alpha * R_n + (1-\\alpha) * Q_{n}\n",
    "\\end{equation*}\n",
    "\n",
    "\\begin{equation*}\n",
    "Q_{n+1} = \\alpha * R_n + (1-\\alpha) * (\\alpha * R_{n-1}+(1-\\alpha) * Q_{n-1})\n",
    "\\end{equation*}\n",
    "\n",
    "\\begin{equation*}\n",
    "Q_{n+1} = \\alpha * R_n + (1-\\alpha) * \\alpha * R_{n-1} + (1-\\alpha)^{2} * Q_{n-1}\n",
    "\\end{equation*}\n",
    "\n",
    "\\begin{equation*}\n",
    "Q_{n+1} = \\alpha * R_n + (1-\\alpha) * \\alpha * R_{n-1} + (1-\\alpha)^{2} * \\alpha * R_{n-2} + ... + (1-\\alpha)^{n-1}\\alpha* R_{n-1}+(1-\\alpha)^{n} * Q_{1}\n",
    "\\end{equation*}\n",
    "\n",
    "\\begin{equation*}\n",
    "Q_{n+1} = (1-\\alpha)^{n} * Q_{1} + \\sum_{i=1}^n (1-\\alpha)^{n-i}*R_{i}\n",
    "\\end{equation*}\n",
    "\n",
    "Modeling $\\frac{1}{n}$ as $\\alpha$ indicate that the system will never converge but hover around the near optimal values and this can be a desirable property in a non stationary rewards enviroment."
   ]
  },
  {
   "cell_type": "markdown",
   "metadata": {},
   "source": [
    "## Upper confidence bound\n",
    "\n",
    "In this model we will use same setup $k=10$ arm bandit for the system and compare four epsilon approaches (0.0, 0.01, 0.1) with upper confidence bound. e-greedy action selection forces the non-greedy actions to be tried, but indiscriminately, with no preferance for those of near greedy. We need to taken into account how close estimates are for other actions too. \n",
    "\n",
    "\\begin{equation*}\n",
    "A_t = argmax(Q_t(a)+c*\\sqrt{\\frac{ln(t)}{N_t(a)}})\n",
    "\\end{equation*}\n",
    "\n",
    "$ln(t)$ denotes the natural logarithm of time steps and $N_t(a)$ represents number of times an action was chosen. In the above equation the square root term measures the uncertainity or variance in the estimates of action values. And $c$ represents the confidence in those estimates."
   ]
  },
  {
   "cell_type": "code",
   "execution_count": null,
   "metadata": {},
   "outputs": [],
   "source": [
    "class UCBandit:\n",
    "    def __init__(self, rd, k, iterations):\n",
    "        self.k = k\n",
    "        self.total_avg_reward = 0.0\n",
    "        self.qa = np.zeros(self.k)\n",
    "        self.ac = np.ones(self.k)\n",
    "        self.iterations = iterations\n",
    "        self.rd = rd\n",
    "        self.c = 2\n",
    "    \n",
    "    def sample_an_action(self):\n",
    "        uncertainity = np.log(self.iterations)/self.ac\n",
    "        uc = self.c * np.sqrt(uncertainity)\n",
    "        return np.argmax(self.qa+uc)\n",
    "\n",
    "    def execute_an_action(self, action):\n",
    "        sampled_rewards = self.rd.get_reward(action=action)\n",
    "        self.ac[action] += 1\n",
    "        return sampled_rewards\n",
    "\n",
    "    def log(self, t, action, r_t):\n",
    "        print(f'==== step {t} ====')\n",
    "        print(f'Sampled a reward {r_t} for action A_{action}')\n",
    "        print(f'Tr {self.total_avg_reward}')\n",
    "        print(f'qa {self.qa}')\n",
    "        print(f'ac {self.ac}')\n",
    "        print('\\n')\n",
    "\n",
    "    def get_total_average_rewards(self):\n",
    "        return self.total_avg_reward\n",
    "    \n",
    "    def get_action_dist(self):\n",
    "        return self.ac\n",
    "    \n",
    "    def run(self):\n",
    "        avg_reward = [0.0]\n",
    "        for t in range(1, self.iterations):\n",
    "            action = self.sample_an_action()\n",
    "            r_t = self.execute_an_action(action)\n",
    "            self.total_avg_reward = running_average(m_n_1=self.total_avg_reward, r_i=r_t, n=t)\n",
    "            self.qa[action] = running_average(m_n_1=self.qa[action], r_i=r_t, n=self.ac[action])\n",
    "            avg_reward.append(float(self.total_avg_reward))\n",
    "            #self.log(t, action, r_t)\n",
    "        return avg_reward\n",
    "                         \n",
    "def run_experiment(k=5, iterations=1000):\n",
    "    rd = RewardDistribution(k=k)\n",
    "    #rd.plot()\n",
    "    data = {}\n",
    "    \n",
    "    fmt = lambda i, eps, cnt: {'action': f\"action_{i}\", 'count': cnt, 'epsilon': f\"eps_{eps}\"}\n",
    "    \n",
    "    eps_0 = EpsBandit(rd=rd, k=k, eps=0.0, iterations=iterations)\n",
    "    data['eps_0'] = eps_0.run()\n",
    "\n",
    "    eps_0_0_1 = EpsBandit(rd=rd, k=k, eps=0.01, iterations=iterations)\n",
    "    data['eps_0_0_1'] = eps_0_0_1.run()\n",
    "\n",
    "    eps_0_1 = EpsBandit(rd=rd, k=k, eps=0.1, iterations=iterations)\n",
    "    data['eps_0_1'] = eps_0_1.run()\n",
    "    \n",
    "    uc_bandit = UCBandit(rd=rd, k=k, iterations=iterations)\n",
    "    data['uc_bandit'] = uc_bandit.run()\n",
    "\n",
    "    return pd.DataFrame(data)\n",
    "\n",
    "df = run_experiment()\n",
    "\n",
    "def run_episodes(episodes=1000):\n",
    "    result = dict()\n",
    "    iterations = 1000\n",
    "    result['eps_0'] = np.zeros(iterations)\n",
    "    result['eps_0_0_1'] = np.zeros(iterations)\n",
    "    result['eps_0_1'] = np.zeros(iterations)\n",
    "    result['uc_bandit'] = np.zeros(iterations)\n",
    "    for episode in range(1, episodes):\n",
    "        df = run_experiment(k=10, iterations=iterations)\n",
    "        result['eps_0'] = running_average(m_n_1=result['eps_0'], r_i=np.asarray(df['eps_0']), n=episode)\n",
    "        result['eps_0_0_1'] = running_average(m_n_1=result['eps_0_0_1'], r_i=np.asarray(df['eps_0_0_1']), n=episode)\n",
    "        result['eps_0_1'] = running_average(m_n_1=result['eps_0_1'], r_i=np.asarray(df['eps_0_1']), n=episode)\n",
    "        result['uc_bandit'] = running_average(m_n_1=result['uc_bandit'], r_i=np.asarray(df['uc_bandit']), n=episode)\n",
    "        _df = pd.DataFrame(result)\n",
    "    return _df\n",
    "\n",
    "def prepare_data_for_plotting(_df):\n",
    "    entries = []\n",
    "    for time_step in range(0, 1000):\n",
    "        entries.append({'time_step': time_step, 'algorithm': 'eps_0', 'average_reward': _df['eps_0'][time_step]})\n",
    "        entries.append({'time_step': time_step, 'algorithm': 'eps_0_0_1', 'average_reward': _df['eps_0_0_1'][time_step]})\n",
    "        entries.append({'time_step': time_step, 'algorithm': 'eps_0_1', 'average_reward': _df['eps_0_1'][time_step]})\n",
    "        entries.append({'time_step': time_step, 'algorithm': 'uc_bandit', 'average_reward': _df['uc_bandit'][time_step]})\n",
    "    dframe = pd.DataFrame(entries)\n",
    "    return dframe\n",
    "    \n",
    "_df = run_episodes(episodes=100)\n",
    "dframe = prepare_data_for_plotting(_df)\n",
    "\n",
    "sns.lineplot(data=dframe, x='time_step', y='average_reward', hue='algorithm')"
   ]
  },
  {
   "cell_type": "markdown",
   "metadata": {},
   "source": [
    "## Associative Search (Contextual Bandits)\n",
    "\n",
    "Associative search is characterized by a dual-process mechanism: it encompasses both trial-and-error learning to identify optimal actions and the formation of associations between these actions and the specific contexts in which they prove to be most effective. This type of search task serves as an intermediary complexity level, situated between the k-armed bandit problem and the broader domain of reinforcement learning. The detailed exploration of associative search algorithms is extensive and falls outside the purview of this article. However, a thorough examination is planned for subsequent publications."
   ]
  },
  {
   "cell_type": "markdown",
   "metadata": {
    "pycharm": {
     "name": "#%% md\n"
    }
   },
   "source": [
    "## Conclusion\n",
    "\n",
    "This article has delineated the exploration-exploitation dilemma and contextualized its relevance in practical applications. Through empirical investigation, we have substantiated that near-greedy approaches yield efficacious results within the framework of epsilon-greedy algorithms. Moreover, it has been established that Upper Confidence Bound (UCB) algorithms outperform epsilon-greedy strategies, albeit predominantly within stationary environments. The foundational concepts pertinent to associative search, also known as contextual bandits, have been introduced, setting the stage for their detailed exploration in future work."
   ]
  }
 ],
 "metadata": {
  "kernelspec": {
   "name": "pycharm-4902fcf4",
   "language": "python",
   "display_name": "PyCharm (ReinforcementLearning)"
  },
  "language_info": {
   "codemirror_mode": {
    "name": "ipython",
    "version": 3
   },
   "file_extension": ".py",
   "mimetype": "text/x-python",
   "name": "python",
   "nbconvert_exporter": "python",
   "pygments_lexer": "ipython3",
   "version": "3.9.6"
  }
 },
 "nbformat": 4,
 "nbformat_minor": 4
}