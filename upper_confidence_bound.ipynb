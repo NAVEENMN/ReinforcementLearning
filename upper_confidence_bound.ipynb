{
 "cells": [
  {
   "cell_type": "markdown",
   "metadata": {},
   "source": [
    "# Upper confidence bound Algorithm (Multi Armed Bandit)\n",
    "\n",
    "(Naveen Mysore, navimn1991@gmail.com)"
   ]
  },
  {
   "cell_type": "markdown",
   "metadata": {},
   "source": [
    "## Abstract\n",
    "\n",
    "Multi-armed bandit algorithms are a class of powerful algorithms that run the modern world. They are used everywhere from running clinical trials with RCT, Massive AB Testing to recommending movies on Netflix. The problem is still open for an optimal or near-optimal solution and studies are still being conducted to find a scalable solution [reference](https://www.nature.com/articles/s41598-021-83726-8). On the other hand, some empirical studies done by evolutionary biologists seem to show that plants and slime molds can solve this problem in a tractable time [reference](https://royalsocietypublishing.org/doi/full/10.1098/rsif.2016.0030) which questions the fundamentals of intelligence theory. These algorithms are so powerful that, studies are now being conducted in political sciences to see how are they affecting modern democracy [reference](https://www.tandfonline.com/doi/abs/10.1080/08838151.2020.1757365) and polarization of society. If you use any of the internet products like Netflix, TikTok, E-commerce platforms, or any social media platform then you might have noticed that they recommend products or media contents that are so well-tuned for your tastes [reference](https://www.youtube.com/watch?v=kY-BCNHd_dM&t=589s&ab_channel=DataCouncil). These systems have modeled your behavior so well that they do a great job at grabbing your attention. In this article, I will conduct an empirical study showing how these algorithms work so that we can study their impacts on the real world. We will first define the problem and explore solutions like epsilon greedy algorithms and upper confidence bound algorithms and lay groundwork for contextual bandit algorithms.\n"
   ]
  },
  {
   "cell_type": "markdown",
   "metadata": {},
   "source": [
    "## Introduction\n",
    "\n",
    "[Multi armed bandit algorithms](https://en.wikipedia.org/wiki/Multi-armed_bandit) derive their origins from probability theory and machine learning. The core of the problem is the exploration-exploitation dilemma that an autonomous agent suffers. An autonomous agent is something capable of making its own decision based on perceived information. For example, You and I are autonomous agents since we receive information from our environment and take decisions or actions based on some internal state. At every instance of time, an autonomous agent has to decide whether to explore something new or to exploit something familiar to it. Based on the decision chosen by the agent, the environment rewards the agent with some positive or negative feedback. \n",
    "\n",
    "The problem is often explained using an analogy of a casino slot machine. Typically a casino slot machine has an arm lever which upon pulling rewards you with some coins, now imagine a slot machine with $k$ arms or lever and at a time you have to pull one lever. You are faced repeatedly with a choice among $k$ different actions or options. After each choice, you receive a numerical reward chosen from a stationary probability distribution that depends on the action you selected. The objective here is to maximize the expected total reward over some time. In a typical setting, the content you see on your phone are the choices and the algorithms are modeling your behavior based on the feedback you give them. In this case, you are the environment and the apps like Netflix and TikTok are autonomous agents trying to model you.  \n",
    "\n"
   ]
  },
  {
   "cell_type": "markdown",
   "metadata": {},
   "source": [
    "## Epsilon Greedy and UCB\n",
    "\n",
    "Epsilon-Greedy is a simple method to balance exploration and exploitation by choosing between exploration and exploitation randomly. The epsilon-greedy, where epsilon refers to the probability of choosing to explore, exploits most of the time with a small chance of exploring. Unlike epsilon greedy, rather than performing exploration by simply selecting an arbitrary action, chosen with a probability that remains constant, the UCB algorithm changes its exploration-exploitation balance as it gathers more knowledge of the environment."
   ]
  },
  {
   "cell_type": "markdown",
   "metadata": {},
   "source": [
    "## Experiment setup\n",
    "\n",
    "The goal of this experiment is to compare the multi-arm bandit problem with the epsilon $\\epsilon$ greedy approach and upper confidence bound algorithm. In this experiment we will setup $k=10$ arm bandit and compare four epsilon approaches (0.0, 0.01, 0.1, 0.5) followed by upper confidence bound method. We will be running lots of iterations and episodes. Computing averages for these rewards are both space and computationally expensive and hence we will be using running averages. This implies we just need to store two variables in memory ( previous mean and current reward ). Here is the derivation.\n",
    "\n",
    "Let $m_n$ be mean or average value of rewards at $n^{th}$ time step. Let $n$ be the total number of iterations. Let $R_i$ be reward at $i^{th}$ time step.\n",
    "\n",
    "Then\n",
    "\n",
    "\\begin{equation*}\n",
    "m_n = \\frac{\\sum_{i=1}^n R_i}{n}\n",
    "\\end{equation*}\n",
    "\n",
    "\\begin{equation*}\n",
    "m_n = \\frac{(\\sum_{i=1}^{n-1}R_i)+R_n}{n}\n",
    "\\end{equation*}\n",
    "\n",
    "\\begin{equation*}\n",
    "m_n = \\frac{Rn}{n}+\\frac{\\sum_{i=1}^{n-1}R_{n-1}}{n}\n",
    "\\end{equation*}\n",
    "\n",
    "The sum of $n-1$ rewards $\\sum_{i=1}^{n-1}R_{n-1}$ can also be written as $m_{n-1}$*${n-1}$. Using this the previous equation can be written as\n",
    "\n",
    "\\begin{equation*}\n",
    "m_n = \\frac{Rn}{n} + \\frac{(n-1)m_{n-1}}{n}\n",
    "\\end{equation*}\n",
    "\n",
    "Rearranging terms we get\n",
    "\\begin{equation*}\n",
    "m_n = m_{n-1}+\\frac{R_{n}-m_{n-1}}{n}\n",
    "\\end{equation*}\n",
    "\n",
    "Which means, just by keep track of current reward $R_{i}$ and running mean $m_{n-1}$ we can update the new mean $m_{n}$ by above equation.\n",
    "\n",
    "\\begin{equation*}\n",
    "m_n  \\Leftarrow m_{n-1}+\\frac{R_{n}-m_{n-1}}{n}\n",
    "\\end{equation*}"
   ]
  },
  {
   "cell_type": "markdown",
   "metadata": {},
   "source": [
    "Programatically we can express this as function "
   ]
  },
  {
   "cell_type": "code",
   "execution_count": 25,
   "metadata": {},
   "outputs": [],
   "source": [
    "running_average = lambda m_n_1, r_i, n: m_n_1 + ((r_i - m_n_1) / n)"
   ]
  },
  {
   "cell_type": "markdown",
   "metadata": {},
   "source": [
    "Let us import all the packages we will be needing for this experiment."
   ]
  },
  {
   "cell_type": "code",
   "execution_count": 26,
   "metadata": {
    "pycharm": {
     "is_executing": true
    }
   },
   "outputs": [],
   "source": [
    "import numpy as np\n",
    "import pandas as pd\n",
    "import seaborn as sns\n",
    "import matplotlib.pyplot as plt"
   ]
  },
  {
   "cell_type": "markdown",
   "metadata": {},
   "source": [
    "## Environment reward setup\n",
    "\n",
    "We can imagine a system with $k$ arms and for each arm the machine gives us a numerical reward from a sample distribution of mean $mu$ and standard deviation $sd$. We can the model this distrubtion with the code below."
   ]
  },
  {
   "cell_type": "code",
   "execution_count": 27,
   "metadata": {
    "pycharm": {
     "is_executing": true
    }
   },
   "outputs": [],
   "source": [
    "class RewardDistribution:\n",
    "    def __init__(self, k=10):\n",
    "        self.k = k\n",
    "        self.mu = 0\n",
    "        self.sigma = 1\n",
    "        self.q_star_mu = np.random.normal(self.mu, self.sigma, k)\n",
    "        self.q_star_sd = np.ones(k)\n",
    "\n",
    "    def get_reward(self, action):\n",
    "        Rt = np.random.normal(self.q_star_mu[action], self.q_star_sd[action], 1)\n",
    "        return Rt\n",
    "\n",
    "    def plot(self):\n",
    "        # create a data frame to plot the distribution\n",
    "        df = {}\n",
    "        sample_size = 1000\n",
    "        for action in range(self.k):\n",
    "            mu = self.q_star_mu[action]\n",
    "            sd = self.q_star_sd[action]\n",
    "            df[f'action_{action}'] = np.random.normal(mu, sd, sample_size)\n",
    "        df = pd.DataFrame(data=df)\n",
    "        sns.boxplot(data=df)\n"
   ]
  },
  {
   "cell_type": "markdown",
   "metadata": {},
   "source": [
    "Let's model a system with 10 arms and visualize its reward distribution. For each action (pulling a slot arm) the system samples rewards from a distribution of (0,1) and awards it to you. "
   ]
  },
  {
   "cell_type": "code",
   "execution_count": 28,
   "metadata": {
    "pycharm": {
     "is_executing": true
    }
   },
   "outputs": [
    {
     "data": {
      "image/png": "[encoded data removed]",
      "text/plain": [
       "<Figure size 432x288 with 1 Axes>"
      ]
     },
     "metadata": {
      "needs_background": "light"
     },
     "output_type": "display_data"
    }
   ],
   "source": [
    "rd = RewardDistribution(k=10)\n",
    "rd.plot()"
   ]
  },
  {
   "cell_type": "markdown",
   "metadata": {},
   "source": [
    "Of course in reality you would not know this distribution. If you knew it, you probably would have been a millionaire by now. Even though we wouldn't know this universe encoded distribution we can use the strategic approach of epsilon greedy to model this distribution.   "
   ]
  },
  {
   "cell_type": "markdown",
   "metadata": {},
   "source": [
    "## Epsilon bandit\n",
    "\n",
    "In this model we will setup $k=10$ arm bandit for the system and compare four epsilon approaches (0.0, 0.01, 0.1, 0.5)."
   ]
  },
  {
   "cell_type": "code",
   "execution_count": 29,
   "metadata": {
    "pycharm": {
     "is_executing": true
    }
   },
   "outputs": [],
   "source": [
    "class EpsBandit:\n",
    "    def __init__(self):\n",
    "        self.eps = None\n",
    "        self.k = None\n",
    "        self.qa = None\n",
    "        self.actions = None\n",
    "        self.rd = None\n",
    "\n",
    "    def set_epsilon(self, eps):\n",
    "        pass\n",
    "\n",
    "    def set_reward_distribution(self, rd):\n",
    "        pass\n",
    "\n",
    "    def set_k_arms(self, k):\n",
    "        pass\n",
    "\n",
    "    def get_action_dist(self):\n",
    "        pass\n",
    "\n",
    "    def get_q_values(self):\n",
    "        pass\n",
    "\n",
    "    def _sample_an_action(self):\n",
    "\n",
    "        def greedy_action():\n",
    "            # pick action corresponding to high qa\n",
    "            return np.argmax(self.qa)\n",
    "\n",
    "        def random_action():\n",
    "            # pick random action from k selections\n",
    "            return np.random.choice(self.k)\n",
    "\n",
    "        if self.eps == 0:\n",
    "            # always greedy choice\n",
    "            return greedy_action()\n",
    "        else:\n",
    "            p = np.random.rand()\n",
    "            # high epsilon means more weight to random actions\n",
    "            if p < self.eps:\n",
    "                return random_action()\n",
    "            else:\n",
    "                return greedy_action()\n",
    "\n",
    "    def _execute_an_action(self, action):\n",
    "        sampled_rewards = self.rd.get_reward(action=action)\n",
    "        self.actions[action] += 1\n",
    "        return sampled_rewards\n",
    "    \n",
    "    \n",
    "class Experiment(EpsBandit):\n",
    "    def __init__(self, name):\n",
    "        super().__init__()\n",
    "        self.name = name\n",
    "        self.total_avg_reward = 0.0\n",
    "        self.average_rewards = {}\n",
    "\n",
    "    def set_epsilon(self, eps):\n",
    "        self.eps = eps\n",
    "\n",
    "    def set_k_arms(self, k):\n",
    "        self.k = k\n",
    "        self.qa = np.zeros(k)\n",
    "        self.actions = np.zeros(k)\n",
    "\n",
    "    def set_reward_distribution(self, rd):\n",
    "        self.rd = rd\n",
    "\n",
    "    def get_name(self):\n",
    "        return self.name\n",
    "\n",
    "    def get_average_rewards(self):\n",
    "        return pd.DataFrame(self.average_rewards)\n",
    "\n",
    "    def get_action_dist(self):\n",
    "        dataframe = {}\n",
    "        for _index, value in enumerate(self.actions):\n",
    "            dataframe[f'a{_index}'] = [value]\n",
    "        return pd.DataFrame(dataframe)\n",
    "\n",
    "    def get_q_values_dist(self):\n",
    "        dataframe = {}\n",
    "        for _index, value in enumerate(self.qa):\n",
    "            dataframe[f'q_a{_index}'] = [value]\n",
    "        return pd.DataFrame(dataframe)\n",
    "\n",
    "    def run(self, steps=10):\n",
    "        for t in range(1, steps):\n",
    "            action = self._sample_an_action()\n",
    "            r_t = self._execute_an_action(action)\n",
    "            self.total_avg_reward = running_average(m_n_1=self.total_avg_reward, r_i=r_t, n=t)\n",
    "            self.qa[action] = running_average(m_n_1=self.qa[action], r_i=r_t, n=self.actions[action])\n",
    "            self.average_rewards[f't{t}'] = [round(float(self.total_avg_reward), 2)]"
   ]
  },
  {
   "cell_type": "markdown",
   "metadata": {},
   "source": [
    "epsilon 0.0 means we always take greedy actions, actions which have maximum rewards in the past. epsilon 0.5 means, 50% of the time we can actions which have maximum rewards in the past and 50% time we will be taking random actions."
   ]
  },
  {
   "cell_type": "code",
   "execution_count": 38,
   "metadata": {
    "pycharm": {
     "is_executing": true
    }
   },
   "outputs": [],
   "source": [
    "class Experiments:\n",
    "    def __init__(self):\n",
    "        self.time_steps = 10\n",
    "        self.experiments = []\n",
    "\n",
    "    def set_time_steps(self, steps=10):\n",
    "        self.time_steps = steps\n",
    "\n",
    "    def add_an_experiment(self, experiment):\n",
    "        self.experiments.append(experiment)\n",
    "\n",
    "    def run_all_experiments(self):\n",
    "        for _experiment in self.experiments:\n",
    "            _experiment.run(steps=self.time_steps)\n",
    "\n",
    "    def get_results(self):\n",
    "        results = dict()\n",
    "        results['time_step'] = []\n",
    "        results['epsilon'] = []\n",
    "        results['average_reward'] = []\n",
    "        for t in range(0, self.time_steps):\n",
    "            for _exp in self.experiments:\n",
    "                _res = _exp.get_average_rewards()\n",
    "                results['time_step'].append(f't{t}')\n",
    "                results['epsilon'].append(_exp.get_name())\n",
    "                if t == 0:\n",
    "                    results['average_reward'].append(0.0)\n",
    "                else:\n",
    "                    results['average_reward'].append(_res.loc[[0], [f't{t}']].values[0][0])\n",
    "        return pd.DataFrame(results)\n",
    "\n",
    "\n",
    "number_of_arms = 10\n",
    "# One reward distribution comman across all \n",
    "reward_distribution = RewardDistribution(k=number_of_arms)\n",
    "\n",
    "experiments = Experiments()\n",
    "experiments.set_time_steps(steps=100)\n",
    "\n",
    "experiment_1 = Experiment(name='eps_0')\n",
    "experiment_1.set_k_arms(k=number_of_arms)\n",
    "experiment_1.set_reward_distribution(rd=reward_distribution)\n",
    "experiment_1.set_epsilon(eps=0.0)\n",
    "experiments.add_an_experiment(experiment=experiment_1)\n",
    "\n",
    "experiment_2 = Experiment(name='eps_0_0_1')\n",
    "experiment_2.set_k_arms(k=number_of_arms)\n",
    "experiment_2.set_reward_distribution(rd=reward_distribution)\n",
    "experiment_2.set_epsilon(eps=0.01)\n",
    "experiments.add_an_experiment(experiment=experiment_2)\n",
    "\n",
    "experiment_3 = Experiment(name='eps_0_1')\n",
    "experiment_3.set_k_arms(k=number_of_arms)\n",
    "experiment_3.set_reward_distribution(rd=reward_distribution)\n",
    "experiment_3.set_epsilon(eps=0.1)\n",
    "experiments.add_an_experiment(experiment=experiment_3)"
   ]
  },
  {
   "cell_type": "markdown",
   "metadata": {},
   "source": [
    "Ok, now let's run this experiment."
   ]
  },
  {
   "cell_type": "code",
   "execution_count": 39,
   "metadata": {
    "pycharm": {
     "is_executing": true
    }
   },
   "outputs": [
    {
     "name": "stdout",
     "output_type": "stream",
     "text": [
      "  time_step    epsilon  average_reward\n",
      "0        t0      eps_0            0.00\n",
      "1        t0  eps_0_0_1            0.00\n",
      "2        t0    eps_0_1            0.00\n",
      "3        t1      eps_0           -2.64\n",
      "4        t1  eps_0_0_1           -0.08\n"
     ]
    },
    {
     "data": {
      "text/plain": [
       "<AxesSubplot:xlabel='time_step', ylabel='average_reward'>"
      ]
     },
     "execution_count": 39,
     "metadata": {},
     "output_type": "execute_result"
    },
    {
     "data": {
      "image/png": "[encoded data removed]",
      "text/plain": [
       "<Figure size 432x288 with 1 Axes>"
      ]
     },
     "metadata": {
      "needs_background": "light"
     },
     "output_type": "display_data"
    }
   ],
   "source": [
    "experiments.run_all_experiments()\n",
    "results = experiments.get_results()\n",
    "print(results.head())\n",
    "sns.lineplot(data=results, x='time_step', y='average_reward', hue='epsilon')\n",
    "plt.xscale('log')"
   ]
  },
  {
   "cell_type": "markdown",
   "metadata": {},
   "source": [
    "We just ran this experiment for a time step of 1000 and we the collected the running average rewards for different epsilon. As we repeat these experiments our <b>Q</b> values will converge to <b>Q*</b> values. "
   ]
  },
  {
   "cell_type": "markdown",
   "metadata": {},
   "source": [
    "## Running episodes\n",
    "\n",
    "If you notice we sampled reward distribution one time <b>RewardDistribution</b> and we reused it for different epsilon experiment. We need to repeat this experiment many times with different reward distribution for our values to converge to optimal values.  "
   ]
  },
  {
   "cell_type": "code",
   "execution_count": 40,
   "metadata": {
    "pycharm": {
     "is_executing": true
    }
   },
   "outputs": [
    {
     "name": "stdout",
     "output_type": "stream",
     "text": [
      "  time_step    epsilon  average_reward\n",
      "0        t0      eps_0        0.000000\n",
      "1        t0  eps_0_0_1        0.000000\n",
      "2        t0    eps_0_1        0.000000\n",
      "3        t1      eps_0        1.842121\n",
      "4        t1  eps_0_0_1        1.828283\n"
     ]
    },
    {
     "data": {
      "text/plain": [
       "<AxesSubplot:xlabel='time_step', ylabel='average_reward'>"
      ]
     },
     "execution_count": 40,
     "metadata": {},
     "output_type": "execute_result"
    },
    {
     "data": {
      "image/png": "[encoded data removed]",
      "text/plain": [
       "<Figure size 432x288 with 1 Axes>"
      ]
     },
     "metadata": {
      "needs_background": "light"
     },
     "output_type": "display_data"
    }
   ],
   "source": [
    "net_result = None\n",
    "flag = False\n",
    "for episode in range(0, 100):\n",
    "    experiments.run_all_experiments()\n",
    "    results = experiments.get_results()\n",
    "    if not flag:\n",
    "        net_result = results\n",
    "        flag = True\n",
    "    else:\n",
    "        net_result['average_reward'] = running_average(m_n_1=net_result['average_reward'],\n",
    "                                                       r_i=results['average_reward'],\n",
    "                                                       n=episode)\n",
    "print(net_result.head())\n",
    "sns.lineplot(data=net_result, x='time_step', y='average_reward', hue='epsilon')"
   ]
  },
  {
   "cell_type": "markdown",
   "metadata": {},
   "source": [
    "Now that we have the data we need, we shall format it and prepare for plotting."
   ]
  },
  {
   "cell_type": "markdown",
   "metadata": {},
   "source": [
    "## Optimistic Initial Values in non stationary environments\n",
    "\n",
    "In the literature we model these average estimates as <b>$Q$</b> values. Using a similar defination as above let <b>$R_i$</b> now denote reward received after the <b>$i^ith$</b> iteration for a given action. Let <b>$Q_n$</b> denote the estimate of its action value after it has been selected <b>$n-1$</b> times then\n",
    "\n",
    "\\begin{equation*}\n",
    "Q_n = \\frac{R_1+R_2+R_3+....+R_n-1}{n-1}\n",
    "\\end{equation*}\n",
    "\n",
    "From the derivation made using running averages we can say\n",
    "\n",
    "\\begin{equation*}\n",
    "Q_{n+1} = Q_n + \\frac{1}{n}*(R_n-Q_n)\n",
    "\\end{equation*}\n",
    "\n",
    "This can be informally viewed as this\n",
    "\n",
    "<b>New Estimate</b> $\\leftarrow$ <b>Old Estimate</b> + <b>Step Size</b> (<b>Target</b> - <b>Old Estimate</b>)\n",
    "\n",
    "The methods discussed so far are dependent to some extent on the initial Q values, ie, $Q_1(a)$. In other words these methods are biases with initial values of $Q$. The bias will disappear when all actions are samples infinite time by the law of large numbers. On the other hand in the methods discusses so far we assumed that the enviornment is fixed with a sationary reward distribution. However we know that in real world reward distibution keep changing. So model this problem we need the agent must be encourage to explore more based on the enviorment dynamics. As number of iterations run towards infinity $\\frac{1}{n}$ tends towards 0. Which means for large iterations we can model $\\frac{1}{n}$ as a fraction close to 0. We shall represent this by alpha $\\alpha$ where $\\alpha \\in (0, 1]$\n",
    "\n",
    "\\begin{equation*}\n",
    "Q_{n+1} = Q_n + \\alpha*(R_n-Q_n)\n",
    "\\end{equation*}\n",
    "\n",
    "Since, the step-size parameter $\\alpha$ is constant we can derive the following.\n",
    "\n",
    "\\begin{equation*}\n",
    "Q_{n+1} = \\alpha * R_n + (1-\\alpha) * Q_{n}\n",
    "\\end{equation*}\n",
    "\n",
    "\\begin{equation*}\n",
    "Q_{n+1} = \\alpha * R_n + (1-\\alpha) * (\\alpha * R_{n-1}+(1-\\alpha) * Q_{n-1})\n",
    "\\end{equation*}\n",
    "\n",
    "\\begin{equation*}\n",
    "Q_{n+1} = \\alpha * R_n + (1-\\alpha) * \\alpha * R_{n-1} + (1-\\alpha)^{2} * Q_{n-1}\n",
    "\\end{equation*}\n",
    "\n",
    "\\begin{equation*}\n",
    "Q_{n+1} = \\alpha * R_n + (1-\\alpha) * \\alpha * R_{n-1} + (1-\\alpha)^{2} * \\alpha * R_{n-2} + ... + (1-\\alpha)^{n-1}\\alpha* R_{n-1}+(1-\\alpha)^{n} * Q_{1}\n",
    "\\end{equation*}\n",
    "\n",
    "\\begin{equation*}\n",
    "Q_{n+1} = (1-\\alpha)^{n} * Q_{1} + \\sum_{i=1}^n (1-\\alpha)^{n-i}*R_{i}\n",
    "\\end{equation*}\n",
    "\n",
    "Modeling $\\frac{1}{n}$ as $\\alpha$ indicate that the system will never converge but hover around the near optimal values and this can be a desirable property in a non stationary rewards enviroment."
   ]
  },
  {
   "cell_type": "markdown",
   "metadata": {},
   "source": [
    "## Upper confidence bound\n",
    "\n",
    "In this model we will use same setup $k=10$ arm bandit for the system and compare four epsilon approaches (0.0, 0.01, 0.1) with upper confidence bound. e-greedy action selection forces the non-greedy actions to be tried, but indiscriminately, with no preferance for those of near greedy. We need to taken into account how close estimates are for other actions too. \n",
    "\n",
    "\\begin{equation*}\n",
    "A_t = argmax(Q_t(a)+c*\\sqrt{\\frac{ln(t)}{N_t(a)}})\n",
    "\\end{equation*}\n",
    "\n",
    "$ln(t)$ denotes the natural logarithm of time steps and $N_t(a)$ represents number of times an action was chosen. In the above equation the square root term measures the uncertainity or variance in the estimates of action values. And $c$ represents the confidence in those estimates."
   ]
  },
  {
   "cell_type": "code",
   "execution_count": null,
   "metadata": {
    "pycharm": {
     "is_executing": true
    }
   },
   "outputs": [],
   "source": [
    "class UCBandit:\n",
    "    def __init__(self, rd, k, iterations):\n",
    "        self.k = k\n",
    "        self.total_avg_reward = 0.0\n",
    "        self.qa = np.zeros(self.k)\n",
    "        self.ac = np.ones(self.k)\n",
    "        self.iterations = iterations\n",
    "        self.rd = rd\n",
    "        self.c = 2\n",
    "    \n",
    "    def sample_an_action(self):\n",
    "        uncertainity = np.log(self.iterations)/self.ac\n",
    "        uc = self.c * np.sqrt(uncertainity)\n",
    "        return np.argmax(self.qa+uc)\n",
    "\n",
    "    def execute_an_action(self, action):\n",
    "        sampled_rewards = self.rd.get_reward(action=action)\n",
    "        self.ac[action] += 1\n",
    "        return sampled_rewards\n",
    "\n",
    "    def log(self, t, action, r_t):\n",
    "        print(f'==== step {t} ====')\n",
    "        print(f'Sampled a reward {r_t} for action A_{action}')\n",
    "        print(f'Tr {self.total_avg_reward}')\n",
    "        print(f'qa {self.qa}')\n",
    "        print(f'ac {self.ac}')\n",
    "        print('\\n')\n",
    "\n",
    "    def get_total_average_rewards(self):\n",
    "        return self.total_avg_reward\n",
    "    \n",
    "    def get_action_dist(self):\n",
    "        return self.ac\n",
    "    \n",
    "    def run(self):\n",
    "        avg_reward = [0.0]\n",
    "        for t in range(1, self.iterations):\n",
    "            action = self.sample_an_action()\n",
    "            r_t = self.execute_an_action(action)\n",
    "            self.total_avg_reward = running_average(m_n_1=self.total_avg_reward, r_i=r_t, n=t)\n",
    "            self.qa[action] = running_average(m_n_1=self.qa[action], r_i=r_t, n=self.ac[action])\n",
    "            avg_reward.append(float(self.total_avg_reward))\n",
    "            #self.log(t, action, r_t)\n",
    "        return avg_reward\n",
    "                         \n",
    "def run_experiment(k=5, iterations=1000):\n",
    "    rd = RewardDistribution(k=k)\n",
    "    #rd.plot()\n",
    "    data = {}\n",
    "    \n",
    "    fmt = lambda i, eps, cnt: {'action': f\"action_{i}\", 'count': cnt, 'epsilon': f\"eps_{eps}\"}\n",
    "    \n",
    "    eps_0 = EpsBandit(rd=rd, k=k, eps=0.0, iterations=iterations)\n",
    "    data['eps_0'] = eps_0.run()\n",
    "\n",
    "    eps_0_0_1 = EpsBandit(rd=rd, k=k, eps=0.01, iterations=iterations)\n",
    "    data['eps_0_0_1'] = eps_0_0_1.run()\n",
    "\n",
    "    eps_0_1 = EpsBandit(rd=rd, k=k, eps=0.1, iterations=iterations)\n",
    "    data['eps_0_1'] = eps_0_1.run()\n",
    "    \n",
    "    uc_bandit = UCBandit(rd=rd, k=k, iterations=iterations)\n",
    "    data['uc_bandit'] = uc_bandit.run()\n",
    "\n",
    "    return pd.DataFrame(data)\n",
    "\n",
    "df = run_experiment()\n",
    "\n",
    "def run_episodes(episodes=1000):\n",
    "    result = dict()\n",
    "    iterations = 1000\n",
    "    result['eps_0'] = np.zeros(iterations)\n",
    "    result['eps_0_0_1'] = np.zeros(iterations)\n",
    "    result['eps_0_1'] = np.zeros(iterations)\n",
    "    result['uc_bandit'] = np.zeros(iterations)\n",
    "    for episode in range(1, episodes):\n",
    "        df = run_experiment(k=10, iterations=iterations)\n",
    "        result['eps_0'] = running_average(m_n_1=result['eps_0'], r_i=np.asarray(df['eps_0']), n=episode)\n",
    "        result['eps_0_0_1'] = running_average(m_n_1=result['eps_0_0_1'], r_i=np.asarray(df['eps_0_0_1']), n=episode)\n",
    "        result['eps_0_1'] = running_average(m_n_1=result['eps_0_1'], r_i=np.asarray(df['eps_0_1']), n=episode)\n",
    "        result['uc_bandit'] = running_average(m_n_1=result['uc_bandit'], r_i=np.asarray(df['uc_bandit']), n=episode)\n",
    "        _df = pd.DataFrame(result)\n",
    "    return _df\n",
    "\n",
    "def prepare_data_for_plotting(_df):\n",
    "    entries = []\n",
    "    for time_step in range(0, 1000):\n",
    "        entries.append({'time_step': time_step, 'algorithm': 'eps_0', 'average_reward': _df['eps_0'][time_step]})\n",
    "        entries.append({'time_step': time_step, 'algorithm': 'eps_0_0_1', 'average_reward': _df['eps_0_0_1'][time_step]})\n",
    "        entries.append({'time_step': time_step, 'algorithm': 'eps_0_1', 'average_reward': _df['eps_0_1'][time_step]})\n",
    "        entries.append({'time_step': time_step, 'algorithm': 'uc_bandit', 'average_reward': _df['uc_bandit'][time_step]})\n",
    "    dframe = pd.DataFrame(entries)\n",
    "    return dframe\n",
    "    \n",
    "_df = run_episodes(episodes=100)\n",
    "dframe = prepare_data_for_plotting(_df)\n",
    "\n",
    "sns.lineplot(data=dframe, x='time_step', y='average_reward', hue='algorithm')"
   ]
  },
  {
   "cell_type": "markdown",
   "metadata": {},
   "source": [
    "## Associative Search (Contextual Bandits)\n",
    "\n",
    "Associated search involves both trial-and-error learning to search for the best actions and associations of these actions with the situations in which they are best. Associative search tasks are intermediate between the k-armed bandit and the reinforcement learning problem. The scope of study of these algorithms are beyond the scope of this article and I plan to cover them in upcoming articles."
   ]
  },
  {
   "cell_type": "markdown",
   "metadata": {},
   "source": [
    "## Conclusion\n",
    "\n",
    "In this article, we defined the problem of exploration/exploitation and its applications in the real world. We also demonstrated that near greedy solutions are efficient in epsilon greedy settings. We also saw how upper confidence bound algorithms perform better than epsilon greedy algorithms but they are limited to stationary environments. We finally laid the groundwork for associative search or contextual bandits algorithms."
   ]
  },
  {
   "cell_type": "code",
   "execution_count": null,
   "metadata": {
    "pycharm": {
     "is_executing": true
    }
   },
   "outputs": [],
   "source": []
  }
 ],
 "metadata": {
  "kernelspec": {
   "display_name": "Python 3 (ipykernel)",
   "language": "python",
   "name": "python3"
  },
  "language_info": {
   "codemirror_mode": {
    "name": "ipython",
    "version": 3
   },
   "file_extension": ".py",
   "mimetype": "text/x-python",
   "name": "python",
   "nbconvert_exporter": "python",
   "pygments_lexer": "ipython3",
   "version": "3.9.6"
  }
 },
 "nbformat": 4,
 "nbformat_minor": 4
}